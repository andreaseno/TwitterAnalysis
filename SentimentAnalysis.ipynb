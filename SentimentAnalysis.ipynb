{
 "cells": [
  {
   "cell_type": "markdown",
   "metadata": {},
   "source": [
    "# Comparative Analysis of Sentiment Analysis Techniques\n",
    "\n",
    "In this project, we will draw comparisons between traditional statistical analysis tools and cutting-edge AI/ML models. This notebook will examine of the capabilities of SAS against models such as the BERT transformer and LSTM (Long Short-Term Memory) networks.\n",
    "\n",
    "## Objective\n",
    "\n",
    "The primary aim is to evaluate and contrast the effectiveness of each method in classifying sentiments expressed in a dataset composed of various tweets. This evaluation will focus on metrics such as accuracy, recall, and precision scores to evaluate each method's performance.\n",
    "\n",
    "## Approach\n",
    "\n",
    "1. Create \"Gold Standard\" testing dataset.\n",
    "2. Import in Tweet Sentiment Extraction train.csv data.\n",
    "3. Perform Necessary pre-processing.\n",
    "4. Train a BERT Model and an LSTM Neural Network Model.\n",
    "5. Test accuracy, precision, and recall on the \"Gold Standard\" dataset.\n",
    "6. Analyze results. Explain why one model may work better than others and discuss interpretation of sarcasm and other figurative speech. \n",
    "\n",
    "If you are curious about the creation of the Gold Standard dataset, see the file \"TestData.ipynb\". I will start by importing the necessary libraries and connecting to the Twitter comp_dbms PostgreSQL "
   ]
  },
  {
   "cell_type": "code",
   "execution_count": 20,
   "metadata": {},
   "outputs": [],
   "source": [
    "# Import packages\n",
    "import pandas as pd\n",
    "import psycopg2"
   ]
  },
  {
   "cell_type": "markdown",
   "metadata": {},
   "source": [
    "Now I will connect to the database and display some basic information about the table twitter.statuses. This is where we will be getting the data which we will perform sentiment analysis on."
   ]
  },
  {
   "cell_type": "code",
   "execution_count": 21,
   "metadata": {},
   "outputs": [],
   "source": [
    "# Connect to the database\n",
    "connection = psycopg2.connect(host='3.230.203.12',\n",
    "                             user='compdb',\n",
    "                             port=5438,\n",
    "                             database='twitter',\n",
    "                             password='compdbs_postgres')\n",
    "connection.set_session(readonly=True, autocommit=True)\n",
    "\n",
    "#From our connection we need a cursor, which acts as our interface into the database\n",
    "cur = connection.cursor()"
   ]
  },
  {
   "cell_type": "code",
   "execution_count": 22,
   "metadata": {},
   "outputs": [
    {
     "data": {
      "text/html": [
       "<div>\n",
       "<style scoped>\n",
       "    .dataframe tbody tr th:only-of-type {\n",
       "        vertical-align: middle;\n",
       "    }\n",
       "\n",
       "    .dataframe tbody tr th {\n",
       "        vertical-align: top;\n",
       "    }\n",
       "\n",
       "    .dataframe thead th {\n",
       "        text-align: right;\n",
       "    }\n",
       "</style>\n",
       "<table border=\"1\" class=\"dataframe\">\n",
       "  <thead>\n",
       "    <tr style=\"text-align: right;\">\n",
       "      <th></th>\n",
       "      <th>0</th>\n",
       "      <th>1</th>\n",
       "    </tr>\n",
       "  </thead>\n",
       "  <tbody>\n",
       "    <tr>\n",
       "      <th>0</th>\n",
       "      <td>1284819382355365893</td>\n",
       "      <td>RT @Craig_Foster: Final words on 7th anniversa...</td>\n",
       "    </tr>\n",
       "    <tr>\n",
       "      <th>1</th>\n",
       "      <td>1280228458749145098</td>\n",
       "      <td>RT @blue_bnd: In Von Braun's book 'MARS PROJEC...</td>\n",
       "    </tr>\n",
       "    <tr>\n",
       "      <th>2</th>\n",
       "      <td>1241785982174629888</td>\n",
       "      <td>RT @MissJWaring: It’s #WorldPoetryDay!  #Shelt...</td>\n",
       "    </tr>\n",
       "    <tr>\n",
       "      <th>3</th>\n",
       "      <td>1344732936730419200</td>\n",
       "      <td>RT @aubreyjanescott: Some Thoughts Here: I thi...</td>\n",
       "    </tr>\n",
       "    <tr>\n",
       "      <th>4</th>\n",
       "      <td>1126911564286767106</td>\n",
       "      <td>if dogs could talk - and we cannot stress this...</td>\n",
       "    </tr>\n",
       "  </tbody>\n",
       "</table>\n",
       "</div>"
      ],
      "text/plain": [
       "                     0                                                  1\n",
       "0  1284819382355365893  RT @Craig_Foster: Final words on 7th anniversa...\n",
       "1  1280228458749145098  RT @blue_bnd: In Von Braun's book 'MARS PROJEC...\n",
       "2  1241785982174629888  RT @MissJWaring: It’s #WorldPoetryDay!  #Shelt...\n",
       "3  1344732936730419200  RT @aubreyjanescott: Some Thoughts Here: I thi...\n",
       "4  1126911564286767106  if dogs could talk - and we cannot stress this..."
      ]
     },
     "execution_count": 22,
     "metadata": {},
     "output_type": "execute_result"
    }
   ],
   "source": [
    "res = cur.execute(\"\"\"Select distinct(status_id), text \n",
    "                     from twitter.statuses s \n",
    "                     where s.lang = 'en' and status_id not in (\n",
    "                         select status_id from twitter.statuses s2\n",
    "                         where text like '%https://%')\"\"\"\n",
    "                 )\n",
    "users = cur.fetchall()\n",
    "df = pd.DataFrame.from_dict(users)\n",
    "df.head()"
   ]
  },
  {
   "cell_type": "code",
   "execution_count": 23,
   "metadata": {},
   "outputs": [
    {
     "name": "stdout",
     "output_type": "stream",
     "text": [
      "<class 'pandas.core.frame.DataFrame'>\n",
      "RangeIndex: 10439 entries, 0 to 10438\n",
      "Data columns (total 2 columns):\n",
      " #   Column  Non-Null Count  Dtype \n",
      "---  ------  --------------  ----- \n",
      " 0   0       10439 non-null  object\n",
      " 1   1       10439 non-null  object\n",
      "dtypes: object(2)\n",
      "memory usage: 163.2+ KB\n"
     ]
    }
   ],
   "source": [
    "df.info()"
   ]
  }
 ],
 "metadata": {
  "kernelspec": {
   "display_name": "base",
   "language": "python",
   "name": "python3"
  },
  "language_info": {
   "codemirror_mode": {
    "name": "ipython",
    "version": 3
   },
   "file_extension": ".py",
   "mimetype": "text/x-python",
   "name": "python",
   "nbconvert_exporter": "python",
   "pygments_lexer": "ipython3",
   "version": "3.11.5"
  }
 },
 "nbformat": 4,
 "nbformat_minor": 2
}
