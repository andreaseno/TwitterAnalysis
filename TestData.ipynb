{
 "cells": [
  {
   "cell_type": "markdown",
   "metadata": {},
   "source": [
    "# Test Dataset Creation\n",
    "\n",
    "For part of this project, we will develop our own custom testing dataset for twitter sentiment analysis. This dataset will be roughly 500 entries long and will be hand labelled with the following classes: Positive, Neutral, Negative. This notebook will walk the reader through the steps taken to create the test dataset.\n",
    "\n",
    "## Objective\n",
    "\n",
    "The objective is to create a high-quality and original dataset for sentiment analysis sourced from the statuses table of the Twitter PostgreSQL Database. We chose to use the PostgreSQl Database instead of the MongoDB Database because the RDBMS table-based system of PostgreSQL is formatted much better to use with AI/ML libraries than the NoSQL JSON format of MongoDB. This is because we can directly query the data from a PostgreSQL table into a Pandas Dataframe, which is the format all of the Python AI libraries take. As mentioned before, the dataset will consist of around 500 unique tweets taken from the twitter.statuses table. Each row entry will consist of the full tweet text and a multiclass label (Positive, Neutral, Negative). The dataset size being at 500 is only because this is the minimum length I feel would still produce meaningful results. Larger datasets are always beigger, but since we are hand-labelling the data, we are limited on dataset size. \n",
    "\n",
    "## Approach\n",
    "\n",
    "1. Connect to Twitter PostgreSql database\n",
    "2. Load 500 entries into a Pandas Dataframe.\n",
    "3. Reformat data.\n",
    "4. Export data to a CSV with placeholder labels.\n",
    "5. Go through dataset by hand and label every entry.\n",
    "6. Display resulting dataset and show some distributions, etc. \n",
    "\n",
    "If you are curious about the actualy sentiment analysis, see the file \"SentimentAnalysis.ipynb\". I will start by importing the necessary libraries, setting up functions, and connecting to the Twitter comp_dbms PostgreSQL "
   ]
  },
  {
   "cell_type": "code",
   "execution_count": 61,
   "metadata": {},
   "outputs": [],
   "source": [
    "# Import packages\n",
    "import pandas as pd\n",
    "import seaborn as sns\n",
    "import matplotlib.pyplot as plt\n",
    "import psycopg2\n",
    "import emoji\n",
    "import re"
   ]
  },
  {
   "cell_type": "code",
   "execution_count": 62,
   "metadata": {},
   "outputs": [],
   "source": [
    "# Function to replace emojis in text with their textual representations\n",
    "#   Input: String representing a tweet text\n",
    "#   Output: De-Emojied String\n",
    "def replace_emojis(text):\n",
    "    # Use the 'demojize' function from the emoji library\n",
    "    return emoji.demojize(text, delimiters=(\"\", \"\"))"
   ]
  },
  {
   "cell_type": "markdown",
   "metadata": {},
   "source": [
    "### Step 1.\n",
    "Now I will connect to the database and display some basic information about the table twitter.statuses. This is where we will be getting the data to construct the dataset."
   ]
  },
  {
   "cell_type": "code",
   "execution_count": 63,
   "metadata": {},
   "outputs": [],
   "source": [
    "# Connect to the database\n",
    "connection = psycopg2.connect(host='3.230.203.12',\n",
    "                             user='compdb',\n",
    "                             port=5438,\n",
    "                             database='twitter',\n",
    "                             password='compdbs_postgres')\n",
    "connection.set_session(readonly=True, autocommit=True)\n",
    "\n",
    "#From our connection we need a cursor, which acts as our interface into the database\n",
    "cur = connection.cursor()"
   ]
  },
  {
   "cell_type": "markdown",
   "metadata": {},
   "source": [
    "## Step 2. \n",
    "\n",
    "Now I will load 500 entries from the twitter.statuses table into a Pandas Dataframe. I built this specific query for 3 reasons. First, I use distinct(status_id) to make sure there are not duplicate statuses. This is important because repeated entries can lead to slight biases and inconsistencies when testing, which is especially true for a smaller dataset. Second, I filter on language to only include english entries. Sentiment analysis typically works better when limited to one language, and English seemed like the obvious choice since it is my native language. Lastly, I use a subquery to filter out all the statuses containing links. I noticed while building this dataset that some statuses contain links to pictures or wesites, and some tweets contain JUST these links. Having links in the tweets will definitely throw off the accuracy of the sentiment analysis, so I left them out. This may lead to slight inconsistencies in the data (EX: What if one user has only tweeted images? Now they are not represented by the data at all), but I believe these inconsistencies are so minor they are negligible. I have printed the head (first 5 entries) for visualization of the data. "
   ]
  },
  {
   "cell_type": "code",
   "execution_count": 64,
   "metadata": {},
   "outputs": [
    {
     "data": {
      "text/html": [
       "<div>\n",
       "<style scoped>\n",
       "    .dataframe tbody tr th:only-of-type {\n",
       "        vertical-align: middle;\n",
       "    }\n",
       "\n",
       "    .dataframe tbody tr th {\n",
       "        vertical-align: top;\n",
       "    }\n",
       "\n",
       "    .dataframe thead th {\n",
       "        text-align: right;\n",
       "    }\n",
       "</style>\n",
       "<table border=\"1\" class=\"dataframe\">\n",
       "  <thead>\n",
       "    <tr style=\"text-align: right;\">\n",
       "      <th></th>\n",
       "      <th>0</th>\n",
       "      <th>1</th>\n",
       "    </tr>\n",
       "  </thead>\n",
       "  <tbody>\n",
       "    <tr>\n",
       "      <th>0</th>\n",
       "      <td>1000479232273743872</td>\n",
       "      <td>I don't know about you but I think Alden Ehren...</td>\n",
       "    </tr>\n",
       "    <tr>\n",
       "      <th>1</th>\n",
       "      <td>1000978713410859008</td>\n",
       "      <td>RT @mitmul: The PR for DLPack support in CuPy ...</td>\n",
       "    </tr>\n",
       "    <tr>\n",
       "      <th>2</th>\n",
       "      <td>1001167950232080385</td>\n",
       "      <td>RT @bonnienorman: @BretStephensNYT Oh ffs. Suc...</td>\n",
       "    </tr>\n",
       "    <tr>\n",
       "      <th>3</th>\n",
       "      <td>1001533153721413633</td>\n",
       "      <td>RT @egrefen: Super cool @PyTorch reimplementat...</td>\n",
       "    </tr>\n",
       "    <tr>\n",
       "      <th>4</th>\n",
       "      <td>1001549898247000064</td>\n",
       "      <td>RT @SpaceX: Now targeting June 1 launch of SES...</td>\n",
       "    </tr>\n",
       "  </tbody>\n",
       "</table>\n",
       "</div>"
      ],
      "text/plain": [
       "                     0                                                  1\n",
       "0  1000479232273743872  I don't know about you but I think Alden Ehren...\n",
       "1  1000978713410859008  RT @mitmul: The PR for DLPack support in CuPy ...\n",
       "2  1001167950232080385  RT @bonnienorman: @BretStephensNYT Oh ffs. Suc...\n",
       "3  1001533153721413633  RT @egrefen: Super cool @PyTorch reimplementat...\n",
       "4  1001549898247000064  RT @SpaceX: Now targeting June 1 launch of SES..."
      ]
     },
     "execution_count": 64,
     "metadata": {},
     "output_type": "execute_result"
    }
   ],
   "source": [
    "res = cur.execute(\"\"\"Select distinct(status_id), text \n",
    "                     from twitter.statuses s \n",
    "                     where s.lang = 'en' and status_id not in (\n",
    "                         select status_id from twitter.statuses s2\n",
    "                         where text like '%https://%') \n",
    "                     limit 1000\"\"\"\n",
    "                 )\n",
    "users = cur.fetchall()\n",
    "df = pd.DataFrame.from_dict(users)\n",
    "df.head()"
   ]
  },
  {
   "cell_type": "markdown",
   "metadata": {},
   "source": [
    "Below I have also displayed some basic data about the resulting dataframe."
   ]
  },
  {
   "cell_type": "code",
   "execution_count": 65,
   "metadata": {},
   "outputs": [
    {
     "name": "stdout",
     "output_type": "stream",
     "text": [
      "<class 'pandas.core.frame.DataFrame'>\n",
      "RangeIndex: 1000 entries, 0 to 999\n",
      "Data columns (total 2 columns):\n",
      " #   Column  Non-Null Count  Dtype \n",
      "---  ------  --------------  ----- \n",
      " 0   0       1000 non-null   object\n",
      " 1   1       1000 non-null   object\n",
      "dtypes: object(2)\n",
      "memory usage: 15.8+ KB\n"
     ]
    }
   ],
   "source": [
    "df.info()"
   ]
  },
  {
   "cell_type": "markdown",
   "metadata": {},
   "source": [
    "We Can see the following information: there are 9 un-named columns of various data types in this dataframe. We are only concerned with the column representing the text of each tweet, which we can figure out is column index 6 from the .head() printout. In the next step we will process this dataframe.\n",
    "\n",
    "\n",
    "## Step 3. \n",
    "\n",
    "To reformat the data, we will drop the columns we do not need, label the remaining column, and add a new labelled column for sentiment with all 0's. We will then preprocess the text to remove all user mentions, all text denoting that a tweet is a retweet, and replace all emojis with their String representations."
   ]
  },
  {
   "cell_type": "code",
   "execution_count": 66,
   "metadata": {},
   "outputs": [
    {
     "name": "stdout",
     "output_type": "stream",
     "text": [
      "Num rows: 1000\n"
     ]
    },
    {
     "data": {
      "text/html": [
       "<div>\n",
       "<style scoped>\n",
       "    .dataframe tbody tr th:only-of-type {\n",
       "        vertical-align: middle;\n",
       "    }\n",
       "\n",
       "    .dataframe tbody tr th {\n",
       "        vertical-align: top;\n",
       "    }\n",
       "\n",
       "    .dataframe thead th {\n",
       "        text-align: right;\n",
       "    }\n",
       "</style>\n",
       "<table border=\"1\" class=\"dataframe\">\n",
       "  <thead>\n",
       "    <tr style=\"text-align: right;\">\n",
       "      <th></th>\n",
       "      <th>text</th>\n",
       "      <th>target</th>\n",
       "    </tr>\n",
       "  </thead>\n",
       "  <tbody>\n",
       "    <tr>\n",
       "      <th>0</th>\n",
       "      <td>I don't know about you but I think Alden Ehren...</td>\n",
       "      <td>0</td>\n",
       "    </tr>\n",
       "    <tr>\n",
       "      <th>1</th>\n",
       "      <td>The PR for DLPack support in CuPy has been mer...</td>\n",
       "      <td>0</td>\n",
       "    </tr>\n",
       "    <tr>\n",
       "      <th>2</th>\n",
       "      <td>Oh ffs. Such bs. How did he react to recent C...</td>\n",
       "      <td>0</td>\n",
       "    </tr>\n",
       "    <tr>\n",
       "      <th>3</th>\n",
       "      <td>Super cool  reimplementation (+ new stuff) of ...</td>\n",
       "      <td>0</td>\n",
       "    </tr>\n",
       "    <tr>\n",
       "      <th>4</th>\n",
       "      <td>Now targeting June 1 launch of SES-12 from Pad...</td>\n",
       "      <td>0</td>\n",
       "    </tr>\n",
       "  </tbody>\n",
       "</table>\n",
       "</div>"
      ],
      "text/plain": [
       "                                                text  target\n",
       "0  I don't know about you but I think Alden Ehren...       0\n",
       "1  The PR for DLPack support in CuPy has been mer...       0\n",
       "2   Oh ffs. Such bs. How did he react to recent C...       0\n",
       "3  Super cool  reimplementation (+ new stuff) of ...       0\n",
       "4  Now targeting June 1 launch of SES-12 from Pad...       0"
      ]
     },
     "execution_count": 66,
     "metadata": {},
     "output_type": "execute_result"
    }
   ],
   "source": [
    "# Drop all columns besides the 6th indexed\n",
    "df = df.iloc[:, [1]]\n",
    "# Add title to twitter text column\n",
    "df = df.rename(columns={df.columns[0]: 'text'})\n",
    "# Add a new column with zeros for sentiment target\n",
    "df['target'] = 0\n",
    "\n",
    "# Apply the replace_emojis function to the 'text' column\n",
    "df['text'] = df['text'].apply(replace_emojis)\n",
    "# Remove the \"RT @username:\" pattern and any user mentions \"@username\"\n",
    "df['text'] = df['text'].apply(lambda x: re.sub(r'RT @\\w+: ', '', x))\n",
    "df['text'] = df['text'].apply(lambda x: re.sub(r'@\\w+', '', x))\n",
    "\n",
    "# Display info\n",
    "print(f\"Num rows: {df.shape[0]}\")\n",
    "df.head()\n"
   ]
  },
  {
   "cell_type": "markdown",
   "metadata": {},
   "source": [
    "As seen in the above printout, we are now left with a Dataframe containing the information we want.\n",
    "\n",
    "\n",
    "### Step 4. \n",
    "\n",
    "Now I will take the appropriate steps to export this dataframe to a CSV file named CustomTwitterSentimentiments.csv."
   ]
  },
  {
   "cell_type": "code",
   "execution_count": 67,
   "metadata": {},
   "outputs": [],
   "source": [
    "# Export DataFrame to a CSV file\n",
    "df.to_csv('Data/CustomTwitterSentiments.csv', index=False)"
   ]
  },
  {
   "cell_type": "markdown",
   "metadata": {},
   "source": [
    "### Steps 5 & 6. \n",
    "\n",
    "Now I will load back in the labelled CSV file in for some basic analysis. I have created two datasets. The first dataset, BinaryLabelledCustomTwitterSentiments.csv, has been labelled with the following: 0 = negative, 4 = positive. I labelled the dataset this way to keep it identical in format to the Sentiment140 dataset. The second dataset, MultiClassLabelledCustomTwitterSentiments.csv, has been labelled with the following: 0 = negative, 2 = neutral, 4 = positive. I labelled the dataset this way to keep it similarly encoded to the first dataset. I will use Sentiment140, a binary dataset with 1.6 million tweets, and TweetSentimentExtraction.csv, a three class dataset with 27,000 tweets for training. So far I have only labelled 410 songs from the data, but I think this should suffice for testing.\n",
    "\n",
    "Note: row 336 \"“All right, sweethearts, what are you waiting for? Breakfast in bed? Another glorious day in the Corps. A day in the Ma…\" example of sarcasm. 461 is another example and 464\n",
    "\n",
    "Below I have printed out some output of the Binary labelled test data to see an example of the labelled data."
   ]
  },
  {
   "cell_type": "code",
   "execution_count": 68,
   "metadata": {},
   "outputs": [
    {
     "name": "stdout",
     "output_type": "stream",
     "text": [
      "Num rows: 410\n"
     ]
    },
    {
     "data": {
      "text/html": [
       "<div>\n",
       "<style scoped>\n",
       "    .dataframe tbody tr th:only-of-type {\n",
       "        vertical-align: middle;\n",
       "    }\n",
       "\n",
       "    .dataframe tbody tr th {\n",
       "        vertical-align: top;\n",
       "    }\n",
       "\n",
       "    .dataframe thead th {\n",
       "        text-align: right;\n",
       "    }\n",
       "</style>\n",
       "<table border=\"1\" class=\"dataframe\">\n",
       "  <thead>\n",
       "    <tr style=\"text-align: right;\">\n",
       "      <th></th>\n",
       "      <th>text</th>\n",
       "      <th>target</th>\n",
       "    </tr>\n",
       "  </thead>\n",
       "  <tbody>\n",
       "    <tr>\n",
       "      <th>0</th>\n",
       "      <td>I don't know about you but I think Alden Ehren...</td>\n",
       "      <td>4</td>\n",
       "    </tr>\n",
       "    <tr>\n",
       "      <th>1</th>\n",
       "      <td>The PR for DLPack support in CuPy has been mer...</td>\n",
       "      <td>4</td>\n",
       "    </tr>\n",
       "    <tr>\n",
       "      <th>2</th>\n",
       "      <td>Oh ffs. Such bs. How did he react to recent C...</td>\n",
       "      <td>0</td>\n",
       "    </tr>\n",
       "    <tr>\n",
       "      <th>3</th>\n",
       "      <td>Super cool  reimplementation (+ new stuff) of ...</td>\n",
       "      <td>4</td>\n",
       "    </tr>\n",
       "    <tr>\n",
       "      <th>4</th>\n",
       "      <td>Now targeting June 1 launch of SES-12 from Pad...</td>\n",
       "      <td>4</td>\n",
       "    </tr>\n",
       "  </tbody>\n",
       "</table>\n",
       "</div>"
      ],
      "text/plain": [
       "                                                text  target\n",
       "0  I don't know about you but I think Alden Ehren...       4\n",
       "1  The PR for DLPack support in CuPy has been mer...       4\n",
       "2   Oh ffs. Such bs. How did he react to recent C...       0\n",
       "3  Super cool  reimplementation (+ new stuff) of ...       4\n",
       "4  Now targeting June 1 launch of SES-12 from Pad...       4"
      ]
     },
     "execution_count": 68,
     "metadata": {},
     "output_type": "execute_result"
    }
   ],
   "source": [
    "df2 = pd.read_csv('Data/BinaryLabelledCustomTwitterSentiments.csv', encoding='utf-8')\n",
    "# Display info\n",
    "print(f\"Num rows: {df2.shape[0]}\")\n",
    "df2.head()"
   ]
  },
  {
   "cell_type": "code",
   "execution_count": 69,
   "metadata": {},
   "outputs": [
    {
     "data": {
      "text/html": [
       "<div>\n",
       "<style scoped>\n",
       "    .dataframe tbody tr th:only-of-type {\n",
       "        vertical-align: middle;\n",
       "    }\n",
       "\n",
       "    .dataframe tbody tr th {\n",
       "        vertical-align: top;\n",
       "    }\n",
       "\n",
       "    .dataframe thead th {\n",
       "        text-align: right;\n",
       "    }\n",
       "</style>\n",
       "<table border=\"1\" class=\"dataframe\">\n",
       "  <thead>\n",
       "    <tr style=\"text-align: right;\">\n",
       "      <th></th>\n",
       "      <th>target</th>\n",
       "    </tr>\n",
       "  </thead>\n",
       "  <tbody>\n",
       "    <tr>\n",
       "      <th>count</th>\n",
       "      <td>410.000000</td>\n",
       "    </tr>\n",
       "    <tr>\n",
       "      <th>mean</th>\n",
       "      <td>2.565854</td>\n",
       "    </tr>\n",
       "    <tr>\n",
       "      <th>std</th>\n",
       "      <td>1.920627</td>\n",
       "    </tr>\n",
       "    <tr>\n",
       "      <th>min</th>\n",
       "      <td>0.000000</td>\n",
       "    </tr>\n",
       "    <tr>\n",
       "      <th>25%</th>\n",
       "      <td>0.000000</td>\n",
       "    </tr>\n",
       "    <tr>\n",
       "      <th>50%</th>\n",
       "      <td>4.000000</td>\n",
       "    </tr>\n",
       "    <tr>\n",
       "      <th>75%</th>\n",
       "      <td>4.000000</td>\n",
       "    </tr>\n",
       "    <tr>\n",
       "      <th>max</th>\n",
       "      <td>4.000000</td>\n",
       "    </tr>\n",
       "  </tbody>\n",
       "</table>\n",
       "</div>"
      ],
      "text/plain": [
       "           target\n",
       "count  410.000000\n",
       "mean     2.565854\n",
       "std      1.920627\n",
       "min      0.000000\n",
       "25%      0.000000\n",
       "50%      4.000000\n",
       "75%      4.000000\n",
       "max      4.000000"
      ]
     },
     "execution_count": 69,
     "metadata": {},
     "output_type": "execute_result"
    }
   ],
   "source": [
    "df2.describe()"
   ]
  },
  {
   "cell_type": "markdown",
   "metadata": {},
   "source": [
    "Now I will Display a Distribution of the target classes."
   ]
  },
  {
   "cell_type": "code",
   "execution_count": 70,
   "metadata": {},
   "outputs": [
    {
     "data": {
      "image/png": "[encoded data removed]",
      "text/plain": [
       "<Figure size 640x480 with 1 Axes>"
      ]
     },
     "metadata": {},
     "output_type": "display_data"
    }
   ],
   "source": [
    "# Plotting the distribution \n",
    "sns.countplot(x='target', data=df2)\n",
    "plt.title('Distribution of Target Values')\n",
    "plt.xlabel('Target')\n",
    "plt.ylabel('Count')\n",
    "plt.show()"
   ]
  },
  {
   "cell_type": "markdown",
   "metadata": {},
   "source": [
    "As you can see there is almost double the amount of positive sentiments as there are negative, but I think that this shouldn't be too much of an issue. \n",
    "\n",
    "Now I will perform the same EDA on the MultiClass labelled test data to see the differences."
   ]
  },
  {
   "cell_type": "code",
   "execution_count": 71,
   "metadata": {},
   "outputs": [
    {
     "name": "stdout",
     "output_type": "stream",
     "text": [
      "Num rows: 410\n"
     ]
    },
    {
     "data": {
      "text/html": [
       "<div>\n",
       "<style scoped>\n",
       "    .dataframe tbody tr th:only-of-type {\n",
       "        vertical-align: middle;\n",
       "    }\n",
       "\n",
       "    .dataframe tbody tr th {\n",
       "        vertical-align: top;\n",
       "    }\n",
       "\n",
       "    .dataframe thead th {\n",
       "        text-align: right;\n",
       "    }\n",
       "</style>\n",
       "<table border=\"1\" class=\"dataframe\">\n",
       "  <thead>\n",
       "    <tr style=\"text-align: right;\">\n",
       "      <th></th>\n",
       "      <th>text</th>\n",
       "      <th>target</th>\n",
       "    </tr>\n",
       "  </thead>\n",
       "  <tbody>\n",
       "    <tr>\n",
       "      <th>0</th>\n",
       "      <td>I don't know about you but I think Alden Ehren...</td>\n",
       "      <td>4</td>\n",
       "    </tr>\n",
       "    <tr>\n",
       "      <th>1</th>\n",
       "      <td>The PR for DLPack support in CuPy has been mer...</td>\n",
       "      <td>4</td>\n",
       "    </tr>\n",
       "    <tr>\n",
       "      <th>2</th>\n",
       "      <td>Oh ffs. Such bs. How did he react to recent Co...</td>\n",
       "      <td>0</td>\n",
       "    </tr>\n",
       "    <tr>\n",
       "      <th>3</th>\n",
       "      <td>Super cool  reimplementation (+ new stuff) of ...</td>\n",
       "      <td>4</td>\n",
       "    </tr>\n",
       "    <tr>\n",
       "      <th>4</th>\n",
       "      <td>Now targeting June 1 launch of SES-12 from Pad...</td>\n",
       "      <td>2</td>\n",
       "    </tr>\n",
       "  </tbody>\n",
       "</table>\n",
       "</div>"
      ],
      "text/plain": [
       "                                                text  target\n",
       "0  I don't know about you but I think Alden Ehren...       4\n",
       "1  The PR for DLPack support in CuPy has been mer...       4\n",
       "2  Oh ffs. Such bs. How did he react to recent Co...       0\n",
       "3  Super cool  reimplementation (+ new stuff) of ...       4\n",
       "4  Now targeting June 1 launch of SES-12 from Pad...       2"
      ]
     },
     "execution_count": 71,
     "metadata": {},
     "output_type": "execute_result"
    }
   ],
   "source": [
    "df3 = pd.read_csv('Data/MultiClassLabelledCustomTwitterSentiments.csv', encoding='utf-8')\n",
    "# Display info\n",
    "print(f\"Num rows: {df3.shape[0]}\")\n",
    "df3.head()"
   ]
  },
  {
   "cell_type": "code",
   "execution_count": 72,
   "metadata": {},
   "outputs": [
    {
     "data": {
      "text/html": [
       "<div>\n",
       "<style scoped>\n",
       "    .dataframe tbody tr th:only-of-type {\n",
       "        vertical-align: middle;\n",
       "    }\n",
       "\n",
       "    .dataframe tbody tr th {\n",
       "        vertical-align: top;\n",
       "    }\n",
       "\n",
       "    .dataframe thead th {\n",
       "        text-align: right;\n",
       "    }\n",
       "</style>\n",
       "<table border=\"1\" class=\"dataframe\">\n",
       "  <thead>\n",
       "    <tr style=\"text-align: right;\">\n",
       "      <th></th>\n",
       "      <th>target</th>\n",
       "    </tr>\n",
       "  </thead>\n",
       "  <tbody>\n",
       "    <tr>\n",
       "      <th>count</th>\n",
       "      <td>410.000000</td>\n",
       "    </tr>\n",
       "    <tr>\n",
       "      <th>mean</th>\n",
       "      <td>2.209756</td>\n",
       "    </tr>\n",
       "    <tr>\n",
       "      <th>std</th>\n",
       "      <td>1.313798</td>\n",
       "    </tr>\n",
       "    <tr>\n",
       "      <th>min</th>\n",
       "      <td>0.000000</td>\n",
       "    </tr>\n",
       "    <tr>\n",
       "      <th>25%</th>\n",
       "      <td>2.000000</td>\n",
       "    </tr>\n",
       "    <tr>\n",
       "      <th>50%</th>\n",
       "      <td>2.000000</td>\n",
       "    </tr>\n",
       "    <tr>\n",
       "      <th>75%</th>\n",
       "      <td>4.000000</td>\n",
       "    </tr>\n",
       "    <tr>\n",
       "      <th>max</th>\n",
       "      <td>4.000000</td>\n",
       "    </tr>\n",
       "  </tbody>\n",
       "</table>\n",
       "</div>"
      ],
      "text/plain": [
       "           target\n",
       "count  410.000000\n",
       "mean     2.209756\n",
       "std      1.313798\n",
       "min      0.000000\n",
       "25%      2.000000\n",
       "50%      2.000000\n",
       "75%      4.000000\n",
       "max      4.000000"
      ]
     },
     "execution_count": 72,
     "metadata": {},
     "output_type": "execute_result"
    }
   ],
   "source": [
    "df3.describe()"
   ]
  },
  {
   "cell_type": "code",
   "execution_count": 73,
   "metadata": {},
   "outputs": [
    {
     "data": {
      "image/png": "[encoded data removed]",
      "text/plain": [
       "<Figure size 640x480 with 1 Axes>"
      ]
     },
     "metadata": {},
     "output_type": "display_data"
    }
   ],
   "source": [
    "# Plotting the distribution \n",
    "sns.countplot(x='target', data=df3)\n",
    "plt.title('Distribution of Target Values')\n",
    "plt.xlabel('Target')\n",
    "plt.ylabel('Count')\n",
    "plt.show()"
   ]
  }
 ],
 "metadata": {
  "kernelspec": {
   "display_name": "base",
   "language": "python",
   "name": "python3"
  },
  "language_info": {
   "codemirror_mode": {
    "name": "ipython",
    "version": 3
   },
   "file_extension": ".py",
   "mimetype": "text/x-python",
   "name": "python",
   "nbconvert_exporter": "python",
   "pygments_lexer": "ipython3",
   "version": "3.11.5"
  }
 },
 "nbformat": 4,
 "nbformat_minor": 2
}
